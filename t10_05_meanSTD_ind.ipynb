{
 "cells": [
  {
   "cell_type": "code",
   "execution_count": 1,
   "id": "44ec8226-d361-4252-807f-177be39c939b",
   "metadata": {},
   "outputs": [],
   "source": [
    "import os\n",
    "import numpy as np\n",
    "import pandas as pd\n",
    "import json\n",
    "from pathlib import Path\n",
    "from prettytable import PrettyTable"
   ]
  },
  {
   "cell_type": "code",
   "execution_count": 2,
   "id": "368931b4-5ab2-4858-ad3f-529d3526b595",
   "metadata": {},
   "outputs": [],
   "source": [
    "path_data = Path(f'./results/t01_30_data')\n",
    "path_cut = Path('./data/t10_datacut')"
   ]
  },
  {
   "cell_type": "code",
   "execution_count": 3,
   "id": "181ef17a-5a83-4dca-b8ed-842262c1e5fc",
   "metadata": {},
   "outputs": [
    {
     "data": {
      "text/plain": [
       "['XD.mean.np.npy',\n",
       " 'NR.mean.np.npy',\n",
       " 'XR.std.np.npy',\n",
       " 'XR.mean.np.npy',\n",
       " 'NR.std.np.npy',\n",
       " 'ND.mean.np.npy',\n",
       " 'ND.std.np.npy',\n",
       " 'XD.std.np.npy']"
      ]
     },
     "execution_count": 3,
     "metadata": {},
     "output_type": "execute_result"
    }
   ],
   "source": [
    "files = os.listdir(path_data)\n",
    "files"
   ]
  },
  {
   "cell_type": "code",
   "execution_count": 4,
   "id": "a12eb13b-427a-4fc3-8cc4-0d4fa894f8e6",
   "metadata": {},
   "outputs": [],
   "source": [
    "dt = {'ND': dict(), 'NR': dict(), 'XD': dict(), 'XR': dict()}"
   ]
  },
  {
   "cell_type": "code",
   "execution_count": 5,
   "id": "538f6fcb-5240-4052-834d-6796249d4067",
   "metadata": {},
   "outputs": [
    {
     "data": {
      "text/plain": [
       "{'ND': {}, 'NR': {}, 'XD': {}, 'XR': {}}"
      ]
     },
     "execution_count": 5,
     "metadata": {},
     "output_type": "execute_result"
    }
   ],
   "source": [
    "dt"
   ]
  },
  {
   "cell_type": "code",
   "execution_count": 6,
   "id": "b615ac6b-26f4-4f1f-bdba-5d1bbb9a8006",
   "metadata": {},
   "outputs": [],
   "source": [
    "for file in files:\n",
    "    ds, stat, _, _ = file.split('.')\n",
    "    dt[ds][stat] = np.load(path_data / file)"
   ]
  },
  {
   "cell_type": "markdown",
   "id": "1d8b85b4-1e6d-4707-a878-3273b9d81d47",
   "metadata": {},
   "source": [
    "# Search zero feats"
   ]
  },
  {
   "cell_type": "code",
   "execution_count": 8,
   "id": "298d05b1-0ab8-4a61-8b68-5642069e6db3",
   "metadata": {},
   "outputs": [],
   "source": [
    "for ds in dt:\n",
    "    dt[ds]['good'] = dt[ds]['std'] > 0.000001"
   ]
  },
  {
   "cell_type": "markdown",
   "id": "fc490d3c-e4d9-4619-9920-9e42c760a954",
   "metadata": {},
   "source": [
    "# Function"
   ]
  },
  {
   "cell_type": "code",
   "execution_count": 12,
   "id": "3cb5b8b7-cf6c-4662-a787-7b4638bd2cb7",
   "metadata": {},
   "outputs": [],
   "source": [
    "def print_part_table(dt, start, fin, names):\n",
    "    tt = PrettyTable()\n",
    "\n",
    "    tt.field_names = ['ds_stat'] + names\n",
    "    for ds in dt:\n",
    "        for stat in ['mean', 'std', 'good']:\n",
    "            tt.add_row([f'{ds}:{stat:4}'] + dt[ds][stat].reshape(-1).tolist()[start:fin])\n",
    "        \n",
    "    print(tt)"
   ]
  },
  {
   "cell_type": "markdown",
   "id": "cc109a9e-06a2-4557-a2dc-2aff96ee0d17",
   "metadata": {},
   "source": [
    "# Analysis"
   ]
  },
  {
   "cell_type": "markdown",
   "id": "9f2449ac-9c1f-4fcc-922e-a28082f6bb5d",
   "metadata": {},
   "source": [
    "Type1"
   ]
  },
  {
   "cell_type": "code",
   "execution_count": 15,
   "id": "c8788610-d037-4b72-a48d-0843e6c4f2e8",
   "metadata": {},
   "outputs": [
    {
     "data": {
      "text/plain": [
       "['is_root',\n",
       " 'esb',\n",
       " 'inv',\n",
       " 'pred',\n",
       " 's8',\n",
       " 's16',\n",
       " 's32',\n",
       " 's64',\n",
       " 'u8',\n",
       " 'u16',\n",
       " 'u32',\n",
       " 'u64']"
      ]
     },
     "execution_count": 15,
     "metadata": {},
     "output_type": "execute_result"
    }
   ],
   "source": [
    "shape_dim_names = ['is_root', 'esb', 'inv', 'pred', 's8', 's16', 's32', 's64', 'u8', 'u16', 'u32', 'u64']\n",
    "shape_dim_names"
   ]
  },
  {
   "cell_type": "code",
   "execution_count": 16,
   "id": "6fae5467-cafe-431c-a29d-dd6733d7bda7",
   "metadata": {
    "scrolled": true
   },
   "outputs": [
    {
     "name": "stdout",
     "output_type": "stream",
     "text": [
      "+---------+---------------------+-------+-------+----------------------+-------+-------+----------------------+-----------------------+-------+-------+---------------------+-------+\n",
      "| ds_stat |       is_root       |  esb  |  inv  |         pred         |   s8  |  s16  |         s32          |          s64          |   u8  |  u16  |         u32         |  u64  |\n",
      "+---------+---------------------+-------+-------+----------------------+-------+-------+----------------------+-----------------------+-------+-------+---------------------+-------+\n",
      "| ND:mean | 0.06324826180934906 |  0.0  |  0.0  | 0.02413041889667511  |  0.0  |  0.0  | 0.011987727135419846 | 0.0008862579124979675 |  0.0  |  0.0  | 0.07923780381679535 |  0.0  |\n",
      "| ND:std  | 0.24340905249118805 |  0.0  |  0.0  | 0.15345409512519836  |  0.0  |  0.0  |  0.1088302806019783  |  0.029756899923086166 |  0.0  |  0.0  |  0.2701096534729004 |  0.0  |\n",
      "| ND:good |         True        | False | False |         True         | False | False |         True         |          True         | False | False |         True        | False |\n",
      "| NR:mean | 0.06312057375907898 |  0.0  |  0.0  | 0.024412183091044426 |  0.0  |  0.0  | 0.01210759673267603  | 0.0008951423224061728 |  0.0  |  0.0  | 0.07999356836080551 |  0.0  |\n",
      "| NR:std  |  0.2431797832250595 |  0.0  |  0.0  | 0.15432512760162354  |  0.0  |  0.0  | 0.10936640948057175  |  0.029905546456575394 |  0.0  |  0.0  |  0.2712833285331726 |  0.0  |\n",
      "| NR:good |         True        | False | False |         True         | False | False |         True         |          True         | False | False |         True        | False |\n",
      "| XD:mean | 0.04112676903605461 |  0.0  |  0.0  | 0.027980579063296318 |  0.0  |  0.0  | 0.025924522429704666 | 0.0014423365937545896 |  0.0  |  0.0  | 0.19359122216701508 |  0.0  |\n",
      "| XD:std  |  0.1985834687948227 |  0.0  |  0.0  |  0.1649172306060791  |  0.0  |  0.0  | 0.15891024470329285  |  0.037950724363327026 |  0.0  |  0.0  | 0.39511239528656006 |  0.0  |\n",
      "| XD:good |         True        | False | False |         True         | False | False |         True         |          True         | False | False |         True        | False |\n",
      "| XR:mean | 0.04037422314286232 |  0.0  |  0.0  | 0.029315868392586708 |  0.0  |  0.0  | 0.032182399183511734 | 0.0013399614254012704 |  0.0  |  0.0  | 0.18399891257286072 |  0.0  |\n",
      "| XR:std  | 0.19683541357517242 |  0.0  |  0.0  | 0.16869045794010162  |  0.0  |  0.0  | 0.17648433148860931  |  0.03658096492290497  |  0.0  |  0.0  | 0.38748347759246826 |  0.0  |\n",
      "| XR:good |         True        | False | False |         True         | False | False |         True         |          True         | False | False |         True        | False |\n",
      "+---------+---------------------+-------+-------+----------------------+-------+-------+----------------------+-----------------------+-------+-------+---------------------+-------+\n"
     ]
    }
   ],
   "source": [
    "print_part_table(dt, start=0, fin=12, names=shape_dim_names)"
   ]
  },
  {
   "cell_type": "markdown",
   "id": "03dfe091-a2e4-4c1a-9de5-8fd106dbf30d",
   "metadata": {},
   "source": [
    "Type2"
   ]
  },
  {
   "cell_type": "code",
   "execution_count": 17,
   "id": "b07eb63d-9b9d-40c1-9b1b-a77bccc6a2bd",
   "metadata": {},
   "outputs": [
    {
     "data": {
      "text/plain": [
       "['f16', 'f32', 'f64', 'bf16', 'c64', 'c128', 'tuple', 'opaque', 'token']"
      ]
     },
     "execution_count": 17,
     "metadata": {},
     "output_type": "execute_result"
    }
   ],
   "source": [
    "shape_dim_names = ['f16', 'f32', 'f64', 'bf16', 'c64', 'c128', 'tuple', 'opaque', 'token']\n",
    "shape_dim_names"
   ]
  },
  {
   "cell_type": "code",
   "execution_count": 18,
   "id": "dc19218a-810a-4e59-a4a8-6bdcbb2e5764",
   "metadata": {
    "scrolled": true
   },
   "outputs": [
    {
     "name": "stdout",
     "output_type": "stream",
     "text": [
      "+---------+-------+---------------------+-------+---------------------+-------+-------+-----------------------+--------+------------------------+\n",
      "| ds_stat |  f16  |         f32         |  f64  |         bf16        |  c64  |  c128 |         tuple         | opaque |         token          |\n",
      "+---------+-------+---------------------+-------+---------------------+-------+-------+-----------------------+--------+------------------------+\n",
      "| ND:mean |  0.0  |  0.8819321393966675 |  0.0  |         0.0         |  0.0  |  0.0  | 0.0018256469629704952 |  0.0   |          0.0           |\n",
      "| ND:std  |  0.0  | 0.32268857955932617 |  0.0  |         0.0         |  0.0  |  0.0  |  0.04268858581781387  |  0.0   |          0.0           |\n",
      "| ND:good | False |         True        | False |        False        | False | False |          True         | False  |         False          |\n",
      "| NR:mean |  0.0  |  0.8807331323623657 |  0.0  |         0.0         |  0.0  |  0.0  | 0.0018583618802949786 |  0.0   |          0.0           |\n",
      "| NR:std  |  0.0  | 0.32410237193107605 |  0.0  |         0.0         |  0.0  |  0.0  |  0.04306866228580475  |  0.0   |          0.0           |\n",
      "| NR:good | False |         True        | False |        False        | False | False |          True         | False  |         False          |\n",
      "| XD:mean |  0.0  |  0.6734050512313843 |  0.0  | 0.07063508033752441 |  0.0  |  0.0  |  0.006859778892248869 |  0.0   | 0.00016140656953211874 |\n",
      "| XD:std  |  0.0  | 0.46896788477897644 |  0.0  |  0.2562144100666046 |  0.0  |  0.0  |  0.08253925293684006  |  0.0   |  0.012703568674623966  |\n",
      "| XD:good | False |         True        | False |         True        | False | False |          True         | False  |          True          |\n",
      "| XR:mean |  0.0  |  0.6518182158470154 |  0.0  | 0.09329362958669662 |  0.0  |  0.0  |  0.007885124534368515 |  0.0   | 0.00016587530262768269 |\n",
      "| XR:std  |  0.0  |  0.4763941764831543 |  0.0  |  0.2908436059951782 |  0.0  |  0.0  |  0.08844747394323349  |  0.0   |  0.012878196313977242  |\n",
      "| XR:good | False |         True        | False |         True        | False | False |          True         | False  |          True          |\n",
      "+---------+-------+---------------------+-------+---------------------+-------+-------+-----------------------+--------+------------------------+\n"
     ]
    }
   ],
   "source": [
    "print_part_table(dt, start=12, fin=21, names=shape_dim_names)"
   ]
  },
  {
   "cell_type": "markdown",
   "id": "62d626cb-e608-4085-89a4-2affd50fc96c",
   "metadata": {},
   "source": [
    "Size (number of elements) for each dimension"
   ]
  },
  {
   "cell_type": "code",
   "execution_count": 19,
   "id": "a3047e2a-b337-4074-a7bb-0d363da2ed9e",
   "metadata": {},
   "outputs": [
    {
     "data": {
      "text/plain": [
       "['dim0',\n",
       " 'dim1',\n",
       " 'dim2',\n",
       " 'dim3',\n",
       " 'dim4',\n",
       " 'dim5',\n",
       " 'dim_sum',\n",
       " 'dim_prod',\n",
       " 'tuple_ss',\n",
       " 'par_num']"
      ]
     },
     "execution_count": 19,
     "metadata": {},
     "output_type": "execute_result"
    }
   ],
   "source": [
    "shape_dim_names = [f'dim{x}' for x in range(6)] + ['dim_sum', 'dim_prod', 'tuple_ss', 'par_num']\n",
    "shape_dim_names"
   ]
  },
  {
   "cell_type": "code",
   "execution_count": 20,
   "id": "3b187174-8b79-4b4d-8b37-f2f44f348658",
   "metadata": {},
   "outputs": [
    {
     "name": "stdout",
     "output_type": "stream",
     "text": [
      "+---------+--------------------+--------------------+--------------------+--------------------+--------------------+----------------------+--------------------+-------------+---------------------+---------------------+\n",
      "| ds_stat |        dim0        |        dim1        |        dim2        |        dim3        |        dim4        |         dim5         |      dim_sum       |   dim_prod  |       tuple_ss      |       par_num       |\n",
      "+---------+--------------------+--------------------+--------------------+--------------------+--------------------+----------------------+--------------------+-------------+---------------------+---------------------+\n",
      "| ND:mean | 397.6992492675781  | 136.4750213623047  | 297.1161193847656  | 6.163201332092285  |        0.0         |         0.0          | 837.4536743164062  |  1139177.75 | 0.11598245799541473 | 0.06672614067792892 |\n",
      "| ND:std  | 2040.2532958984375 | 534.6463623046875  |  975.33935546875   | 24.563440322875977 |        0.0         |         0.0          | 2331.590087890625  |  8070534.0  |   8.81476879119873  |  0.2607797682285309 |\n",
      "| ND:good |        True        |        True        |        True        |        True        |       False        |        False         |        True        |     True    |         True        |         True        |\n",
      "| NR:mean | 393.8254089355469  | 135.11912536621094 | 292.9940185546875  | 6.163243293762207  |        0.0         |         0.0          | 828.1018676757812  | 1120471.625 | 0.11601508408784866 | 0.06666058301925659 |\n",
      "| NR:std  |  2033.96728515625  |  530.099853515625  | 967.0299682617188  | 24.559850692749023 |        0.0         |         0.0          |  2322.12451171875  |  7996635.0  |  8.775897979736328  | 0.26087209582328796 |\n",
      "| NR:good |        True        |        True        |        True        |        True        |       False        |        False         |        True        |     True    |         True        |         True        |\n",
      "| XD:mean | 921.1057739257812  | 152.45242309570312 | 121.86497497558594 | 92.68295288085938  | 2.015064239501953  | 0.017482582479715347 | 1290.1387939453125 |  1976391.25 |  0.2761000096797943 | 0.04184746742248535 |\n",
      "| XD:std  |     188243.875     |   2557.513671875   | 672.0159301757812  |   990.8740234375   |  40.0085563659668  |  1.899727463722229   |    188263.9375     |  17272470.0 |  19.581581115722656 | 0.23926673829555511 |\n",
      "| XD:good |        True        |        True        |        True        |        True        |        True        |         True         |        True        |     True    |         True        |         True        |\n",
      "| XR:mean | 891.5596313476562  | 242.2835235595703  | 126.82988739013672 | 94.43830108642578  | 2.0549263954162598 | 0.024720603600144386 | 1357.191162109375  |  2006491.5  | 0.28506189584732056 | 0.04099107161164284 |\n",
      "| XR:std  |    180636.46875    | 3805.313720703125  |  763.314208984375  |  1310.44287109375  | 38.949588775634766 |  2.324425220489502   |    180681.34375    |  17662006.0 |  18.947303771972656 | 0.23650510609149933 |\n",
      "| XR:good |        True        |        True        |        True        |        True        |        True        |         True         |        True        |     True    |         True        |         True        |\n",
      "+---------+--------------------+--------------------+--------------------+--------------------+--------------------+----------------------+--------------------+-------------+---------------------+---------------------+\n"
     ]
    }
   ],
   "source": [
    "print_part_table(dt, start=21, fin=31, names=shape_dim_names)"
   ]
  },
  {
   "cell_type": "markdown",
   "id": "681bd247-67ac-4f0f-85e5-4f58ac58f1c8",
   "metadata": {},
   "source": [
    "Reshaping"
   ]
  },
  {
   "cell_type": "code",
   "execution_count": 21,
   "id": "7ace44dd-a818-4d44-b762-aee66de947c1",
   "metadata": {},
   "outputs": [
    {
     "data": {
      "text/plain": [
       "['resh0', 'resh1', 'resh2', 'resh3', 'resh4', 'resh5']"
      ]
     },
     "execution_count": 21,
     "metadata": {},
     "output_type": "execute_result"
    }
   ],
   "source": [
    "shape_dim_names = [f'resh{x}' for x in range(6)]\n",
    "shape_dim_names"
   ]
  },
  {
   "cell_type": "code",
   "execution_count": 22,
   "id": "6b384fc5-6568-4a9c-8083-d3c3284e6832",
   "metadata": {
    "scrolled": true
   },
   "outputs": [
    {
     "name": "stdout",
     "output_type": "stream",
     "text": [
      "+---------+---------------------+----------------------+----------------------+----------------------+-----------------------+------------------------+\n",
      "| ds_stat |        resh0        |        resh1         |        resh2         |        resh3         |         resh4         |         resh5          |\n",
      "+---------+---------------------+----------------------+----------------------+----------------------+-----------------------+------------------------+\n",
      "| ND:mean | 0.09275452792644501 |  0.0705176442861557  | 0.02785034105181694  | 0.019671088084578514 |          0.0          |          0.0           |\n",
      "| ND:std  |  0.4331408441066742 |  0.347114622592926   | 0.22374725341796875  | 0.22677212953567505  |          0.0          |          0.0           |\n",
      "| ND:good |         True        |         True         |         True         |         True         |         False         |         False          |\n",
      "| NR:mean | 0.09307380020618439 | 0.07054025679826736  | 0.027850080281496048 | 0.019641710445284843 |          0.0          |          0.0           |\n",
      "| NR:std  | 0.43379008769989014 | 0.34738314151763916  | 0.22389288246631622  |  0.2266133576631546  |          0.0          |          0.0           |\n",
      "| NR:good |         True        |         True         |         True         |         True         |         False         |         False          |\n",
      "| XD:mean | 0.09914398193359375 | 0.045992426574230194 | 0.04108453914523125  |  0.0172883328050375  | 0.0005902600241824985 | 0.00016422179760411382 |\n",
      "| XD:std  |  0.5097218155860901 |  0.2531425654888153  |  0.2814888060092926  | 0.22528952360153198  |  0.04813095182180405  |  0.028654541820287704  |\n",
      "| XD:good |         True        |         True         |         True         |         True         |          True         |          True          |\n",
      "| XR:mean | 0.09709666669368744 | 0.04544205591082573  |  0.0396934412419796  | 0.01727954111993313  | 0.0009788370225578547 | 0.00017710644169710577 |\n",
      "| XR:std  |  0.502912163734436  |  0.2523070275783539  | 0.27794939279556274  |  0.2262696772813797  |  0.057926055043935776 |  0.02975737862288952   |\n",
      "| XR:good |         True        |         True         |         True         |         True         |          True         |          True          |\n",
      "+---------+---------------------+----------------------+----------------------+----------------------+-----------------------+------------------------+\n"
     ]
    }
   ],
   "source": [
    "print_part_table(dt, start=31, fin=37, names=shape_dim_names)"
   ]
  },
  {
   "cell_type": "markdown",
   "id": "2af1bd04-a00c-4adc-84ab-821af3ae66e5",
   "metadata": {},
   "source": [
    "## Windows (Conv)"
   ]
  },
  {
   "cell_type": "markdown",
   "id": "63225d44-bb0c-4cdc-9e30-59036a1ef5d4",
   "metadata": {},
   "source": [
    "Window size"
   ]
  },
  {
   "cell_type": "code",
   "execution_count": 23,
   "id": "316b8641-6c18-4b80-b7af-2624c594a858",
   "metadata": {},
   "outputs": [
    {
     "data": {
      "text/plain": [
       "['w_sz0', 'w_sz1', 'w_sz2', 'w_sz3', 'w_sz4', 'w_sz5', 'w_sz_sum', 'w_sz_prod']"
      ]
     },
     "execution_count": 23,
     "metadata": {},
     "output_type": "execute_result"
    }
   ],
   "source": [
    "shape_dim_names = [f'w_sz{x}' for x in range(6)] + ['w_sz_sum', 'w_sz_prod']\n",
    "shape_dim_names"
   ]
  },
  {
   "cell_type": "code",
   "execution_count": 24,
   "id": "83f1f1da-152a-471e-94aa-68614ffcd06d",
   "metadata": {
    "jupyter": {
     "source_hidden": true
    },
    "scrolled": true
   },
   "outputs": [
    {
     "name": "stdout",
     "output_type": "stream",
     "text": [
      "+---------+---------------------+---------------------+----------------------+------------------------+------------------------+-------+---------------------+-------------------+\n",
      "| ds_stat |        w_sz0        |        w_sz1        |        w_sz2         |         w_sz3          |         w_sz4          | w_sz5 |       w_sz_sum      |     w_sz_prod     |\n",
      "+---------+---------------------+---------------------+----------------------+------------------------+------------------------+-------+---------------------+-------------------+\n",
      "| ND:mean |         0.0         |         0.0         |         0.0          |          0.0           |          0.0           |  0.0  |         0.0         |        1.0        |\n",
      "| ND:std  |         0.0         |         0.0         |         0.0          |          0.0           |          0.0           |  0.0  |         0.0         |        0.0        |\n",
      "| ND:good |        False        |        False        |        False         |         False          |         False          | False |        False        |       False       |\n",
      "| NR:mean |         0.0         |         0.0         |         0.0          |          0.0           |          0.0           |  0.0  |         0.0         |        1.0        |\n",
      "| NR:std  |         0.0         |         0.0         |         0.0          |          0.0           |          0.0           |  0.0  |         0.0         |        0.0        |\n",
      "| NR:good |        False        |        False        |        False         |         False          |         False          | False |        False        |       False       |\n",
      "| XD:mean |  0.1527440994977951 | 0.16173125803470612 | 0.004211585037410259 | 0.0002195879933424294  | 1.313774373556953e-05  |  0.0  | 0.31891965866088867 | 30.86458396911621 |\n",
      "| XD:std  |   3.67309308052063  |  3.819585084915161  | 0.46819278597831726  |  0.015916116535663605  | 0.0036245803348720074  |  0.0  |  7.487390518188477  |  5035.4384765625  |\n",
      "| XD:good |         True        |         True        |         True         |          True          |          True          | False |         True        |        True       |\n",
      "| XR:mean | 0.17397122085094452 | 0.18636780977249146 | 0.003903253236785531 | 0.00021771133469883353 | 1.2095074453100096e-05 |  0.0  | 0.36447209119796753 | 32.58441162109375 |\n",
      "| XR:std  |   4.12054967880249  |  4.307087421417236  |  0.4492945075035095  |  0.01577231101691723   | 0.0034777778200805187  |  0.0  |  8.333817481994629  |  4847.74853515625 |\n",
      "| XR:good |         True        |         True        |         True         |          True          |          True          | False |         True        |        True       |\n",
      "+---------+---------------------+---------------------+----------------------+------------------------+------------------------+-------+---------------------+-------------------+\n"
     ]
    }
   ],
   "source": [
    "print_part_table(dt, start=37, fin=45, names=shape_dim_names)"
   ]
  },
  {
   "cell_type": "markdown",
   "id": "9adeea85-d01f-4cda-a258-ffd5cb65beb3",
   "metadata": {},
   "source": [
    "Window stride"
   ]
  },
  {
   "cell_type": "code",
   "execution_count": 25,
   "id": "a1d93de4-43a6-4919-b6c2-b632229c0c5e",
   "metadata": {},
   "outputs": [
    {
     "data": {
      "text/plain": [
       "['w_st0', 'w_st1', 'w_st2', 'w_st3', 'w_st4', 'w_st5', 'w_st_sum', 'w_st_prod']"
      ]
     },
     "execution_count": 25,
     "metadata": {},
     "output_type": "execute_result"
    }
   ],
   "source": [
    "shape_dim_names = [f'w_st{x}' for x in range(6)] + ['w_st_sum', 'w_st_prod']\n",
    "shape_dim_names"
   ]
  },
  {
   "cell_type": "code",
   "execution_count": 26,
   "id": "340100eb-b0ad-4abb-91b1-bdb9486208a4",
   "metadata": {
    "scrolled": true
   },
   "outputs": [
    {
     "name": "stdout",
     "output_type": "stream",
     "text": [
      "+---------+----------------------+----------------------+-----------------------+-----------------------+------------------------+-------+----------------------+---------------------+\n",
      "| ds_stat |        w_st0         |        w_st1         |         w_st2         |         w_st3         |         w_st4          | w_st5 |       w_st_sum       |      w_st_prod      |\n",
      "+---------+----------------------+----------------------+-----------------------+-----------------------+------------------------+-------+----------------------+---------------------+\n",
      "| ND:mean |         0.0          |         0.0          |          0.0          |          0.0          |          0.0           |  0.0  |         0.0          |         1.0         |\n",
      "| ND:std  |         0.0          |         0.0          |          0.0          |          0.0          |          0.0           |  0.0  |         0.0          |         0.0         |\n",
      "| ND:good |        False         |        False         |         False         |         False         |         False          | False |        False         |        False        |\n",
      "| NR:mean |         0.0          |         0.0          |          0.0          |          0.0          |          0.0           |  0.0  |         0.0          |         1.0         |\n",
      "| NR:std  |         0.0          |         0.0          |          0.0          |          0.0          |          0.0           |  0.0  |         0.0          |         0.0         |\n",
      "| NR:good |        False         |        False         |         False         |         False         |         False          | False |        False         |        False        |\n",
      "| XD:mean | 0.012421736493706703 | 0.012559683062136173 | 0.0006099666934460402 |  0.000217711174627766 | 1.313774373556953e-05  |  0.0  | 0.025822235271334648 |  1.001802682876587  |\n",
      "| XD:std  | 0.11476149410009384  | 0.11655190587043762  |  0.030102044343948364 |  0.015618562698364258 | 0.0036245803348720074  |  0.0  | 0.24418269097805023  | 0.09039496630430222 |\n",
      "| XD:good |         True         |         True         |          True         |          True         |          True          | False |         True         |         True        |\n",
      "| XR:mean | 0.01270241942256689  | 0.01284496858716011  | 0.0005926586454734206 | 0.0002159834693884477 | 1.2095074453100096e-05 |  0.0  | 0.026368126273155212 |  1.0018150806427002 |\n",
      "| XR:std  | 0.11595151573419571  | 0.11778037250041962  |  0.029940154403448105 |  0.01549603696912527  | 0.0034777778200805187  |  0.0  | 0.24630403518676758  | 0.08938100934028625 |\n",
      "| XR:good |         True         |         True         |          True         |          True         |          True          | False |         True         |         True        |\n",
      "+---------+----------------------+----------------------+-----------------------+-----------------------+------------------------+-------+----------------------+---------------------+\n"
     ]
    }
   ],
   "source": [
    "print_part_table(dt, start=45, fin=53, names=shape_dim_names)"
   ]
  },
  {
   "cell_type": "markdown",
   "id": "ae0ea139-ecdb-44a8-b1fe-544ab067a67b",
   "metadata": {},
   "source": [
    "Window padding low"
   ]
  },
  {
   "cell_type": "code",
   "execution_count": 27,
   "id": "92e38c53-1c9e-4d95-85cb-c094a30c9e09",
   "metadata": {},
   "outputs": [
    {
     "data": {
      "text/plain": [
       "['w_Pl0', 'w_Pl1', 'w_Pl2', 'w_Pl3', 'w_Pl4', 'w_Pl5', 'w_Pl_sum', 'w_Pl_prod']"
      ]
     },
     "execution_count": 27,
     "metadata": {},
     "output_type": "execute_result"
    }
   ],
   "source": [
    "shape_dim_names = [f'w_Pl{x}' for x in range(6)] + ['w_Pl_sum', 'w_Pl_prod']\n",
    "shape_dim_names"
   ]
  },
  {
   "cell_type": "code",
   "execution_count": 28,
   "id": "960cd27f-5b2a-48b2-a4f8-3dcb7b7ee7f6",
   "metadata": {
    "scrolled": true
   },
   "outputs": [
    {
     "name": "stdout",
     "output_type": "stream",
     "text": [
      "+---------+----------------------+----------------------+------------------------+-------+-------+-------+----------------------+---------------------+\n",
      "| ds_stat |        w_Pl0         |        w_Pl1         |         w_Pl2          | w_Pl3 | w_Pl4 | w_Pl5 |       w_Pl_sum       |      w_Pl_prod      |\n",
      "+---------+----------------------+----------------------+------------------------+-------+-------+-------+----------------------+---------------------+\n",
      "| ND:mean |         0.0          |         0.0          |          0.0           |  0.0  |  0.0  |  0.0  |         0.0          |         1.0         |\n",
      "| ND:std  |         0.0          |         0.0          |          0.0           |  0.0  |  0.0  |  0.0  |         0.0          |         0.0         |\n",
      "| ND:good |        False         |        False         |         False          | False | False | False |        False         |        False        |\n",
      "| NR:mean |         0.0          |         0.0          |          0.0           |  0.0  |  0.0  |  0.0  |         0.0          |         1.0         |\n",
      "| NR:std  |         0.0          |         0.0          |          0.0           |  0.0  |  0.0  |  0.0  |         0.0          |         0.0         |\n",
      "| NR:good |        False         |        False         |         False          | False | False | False |        False         |        False        |\n",
      "| XD:mean | 0.005497207399457693 | 0.01316495705395937  | 0.0002402330283075571  |  0.0  |  0.0  |  0.0  | 0.018902398645877838 |  0.9936206936836243 |\n",
      "| XD:std  | 0.15020973980426788  |  1.0250612497329712  |  0.018224703148007393  |  0.0  |  0.0  |  0.0  |  1.0419236421585083  |  0.1235203742980957 |\n",
      "| XD:good |         True         |         True         |          True          | False | False | False |         True         |         True        |\n",
      "| XR:mean | 0.005807363428175449 | 0.016944335773587227 | 0.00022116706531960517 |  0.0  |  0.0  |  0.0  | 0.022972865030169487 |  0.9933425188064575 |\n",
      "| XR:std  | 0.15495580434799194  |  1.234930157661438   |  0.017486678436398506  |  0.0  |  0.0  |  0.0  |  1.249482274055481   | 0.12200900167226791 |\n",
      "| XR:good |         True         |         True         |          True          | False | False | False |         True         |         True        |\n",
      "+---------+----------------------+----------------------+------------------------+-------+-------+-------+----------------------+---------------------+\n"
     ]
    }
   ],
   "source": [
    "print_part_table(dt, start=53, fin=61, names=shape_dim_names)"
   ]
  },
  {
   "cell_type": "markdown",
   "id": "9dbf0362-6de9-4a8d-8283-5a0467753cd1",
   "metadata": {},
   "source": [
    "Window padding high"
   ]
  },
  {
   "cell_type": "code",
   "execution_count": 29,
   "id": "a86e3be8-7820-452a-a9cf-1ec1445861d3",
   "metadata": {},
   "outputs": [
    {
     "data": {
      "text/plain": [
       "['w_Ph0', 'w_Ph1', 'w_Ph2', 'w_Ph3', 'w_Ph4', 'w_Ph5', 'w_Ph_sum', 'w_Ph_prod']"
      ]
     },
     "execution_count": 29,
     "metadata": {},
     "output_type": "execute_result"
    }
   ],
   "source": [
    "shape_dim_names = [f'w_Ph{x}' for x in range(6)] + ['w_Ph_sum', 'w_Ph_prod']\n",
    "shape_dim_names"
   ]
  },
  {
   "cell_type": "code",
   "execution_count": 30,
   "id": "b1b83993-dbcc-4749-b6ff-9ee7ccec087c",
   "metadata": {
    "scrolled": true
   },
   "outputs": [
    {
     "name": "stdout",
     "output_type": "stream",
     "text": [
      "+---------+----------------------+----------------------+-----------------------+------------------------+-------+-------+----------------------+---------------------+\n",
      "| ds_stat |        w_Ph0         |        w_Ph1         |         w_Ph2         |         w_Ph3          | w_Ph4 | w_Ph5 |       w_Ph_sum       |      w_Ph_prod      |\n",
      "+---------+----------------------+----------------------+-----------------------+------------------------+-------+-------+----------------------+---------------------+\n",
      "| ND:mean |         0.0          |         0.0          |          0.0          |          0.0           |  0.0  |  0.0  |         0.0          |         1.0         |\n",
      "| ND:std  |         0.0          |         0.0          |          0.0          |          0.0           |  0.0  |  0.0  |         0.0          |         0.0         |\n",
      "| ND:good |        False         |        False         |         False         |         False          | False | False |        False         |        False        |\n",
      "| NR:mean |         0.0          |         0.0          |          0.0          |          0.0           |  0.0  |  0.0  |         0.0          |         1.0         |\n",
      "| NR:std  |         0.0          |         0.0          |          0.0          |          0.0           |  0.0  |  0.0  |         0.0          |         0.0         |\n",
      "| NR:good |        False         |        False         |         False         |         False          | False | False |        False         |        False        |\n",
      "| XD:mean | 0.004915392957627773 | 0.005091813858598471 | 0.0003228131390642375 | 1.8768205336527899e-06 |  0.0  |  0.0  | 0.01033189706504345  |  0.9938571453094482 |\n",
      "| XD:std  |  0.0810500830411911  | 0.08270120620727539  |  0.020547037944197655 | 0.0013699703849852085  |  0.0  |  0.0  |  0.1628718376159668  | 0.12067338824272156 |\n",
      "| XD:good |         True         |         True         |          True         |          True          | False | False |         True         |         True        |\n",
      "| XR:mean | 0.004945157561451197 | 0.005112760700285435 | 0.0003023768658749759 | 1.7278676978094154e-06 |  0.0  |  0.0  | 0.010362022556364536 |  0.9935964941978455 |\n",
      "| XR:std  | 0.08079372346401215  | 0.08235086500644684  |  0.019845975562930107 | 0.0013144832337275147  |  0.0  |  0.0  | 0.16236335039138794  | 0.11894644796848297 |\n",
      "| XR:good |         True         |         True         |          True         |          True          | False | False |         True         |         True        |\n",
      "+---------+----------------------+----------------------+-----------------------+------------------------+-------+-------+----------------------+---------------------+\n"
     ]
    }
   ],
   "source": [
    "print_part_table(dt, start=61, fin=69, names=shape_dim_names)"
   ]
  },
  {
   "cell_type": "markdown",
   "id": "f033ce79-214e-4c53-beef-b0122211775a",
   "metadata": {},
   "source": [
    "Dilation factor of the sliding window. A dilation factor of 1 means no dilation. "
   ]
  },
  {
   "cell_type": "code",
   "execution_count": 31,
   "id": "48f936a5-fddc-4728-83ff-5eb4cb72cf33",
   "metadata": {},
   "outputs": [
    {
     "data": {
      "text/plain": [
       "['w_dil0',\n",
       " 'w_dil1',\n",
       " 'w_dil2',\n",
       " 'w_dil3',\n",
       " 'w_dil4',\n",
       " 'w_dil5',\n",
       " 'w_dil_sum',\n",
       " 'w_dil_prod']"
      ]
     },
     "execution_count": 31,
     "metadata": {},
     "output_type": "execute_result"
    }
   ],
   "source": [
    "shape_dim_names = [f'w_dil{x}' for x in range(6)] + ['w_dil_sum', 'w_dil_prod']\n",
    "shape_dim_names"
   ]
  },
  {
   "cell_type": "code",
   "execution_count": 32,
   "id": "a6283b83-683c-491e-b79b-8ce6318b772b",
   "metadata": {
    "scrolled": true
   },
   "outputs": [
    {
     "name": "stdout",
     "output_type": "stream",
     "text": [
      "+---------+----------------------+----------------------+-----------------------+------------------------+------------------------+--------+----------------------+----------------------+\n",
      "| ds_stat |        w_dil0        |        w_dil1        |         w_dil2        |         w_dil3         |         w_dil4         | w_dil5 |      w_dil_sum       |      w_dil_prod      |\n",
      "+---------+----------------------+----------------------+-----------------------+------------------------+------------------------+--------+----------------------+----------------------+\n",
      "| ND:mean |         0.0          |         0.0          |          0.0          |          0.0           |          0.0           |  0.0   |         0.0          |         1.0          |\n",
      "| ND:std  |         0.0          |         0.0          |          0.0          |          0.0           |          0.0           |  0.0   |         0.0          |         0.0          |\n",
      "| ND:good |        False         |        False         |         False         |         False          |         False          | False  |        False         |        False         |\n",
      "| NR:mean |         0.0          |         0.0          |          0.0          |          0.0           |          0.0           |  0.0   |         0.0          |         1.0          |\n",
      "| NR:std  |         0.0          |         0.0          |          0.0          |          0.0           |          0.0           |  0.0   |         0.0          |         0.0          |\n",
      "| NR:good |        False         |        False         |         False         |         False          |         False          | False  |        False         |        False         |\n",
      "| XD:mean | 0.012293173931539059 | 0.012298804707825184 | 0.0004757739952765405 | 0.00020457342907320708 | 1.313774373556953e-05  |  0.0   | 0.02528546378016472  |  1.0008708238601685  |\n",
      "| XD:std  | 0.11268363893032074  | 0.11275795102119446  |  0.022359490394592285 |  0.014301460236310959  | 0.0036245803348720074  |  0.0   | 0.23412026464939117  | 0.05597798526287079  |\n",
      "| XD:good |         True         |         True         |          True         |          True          |          True          | False  |         True         |         True         |\n",
      "| XR:mean | 0.012584060430526733 | 0.012589244171977043 | 0.0004535652697086334 | 0.0002038883976638317  | 1.2095074453100096e-05 |  0.0   | 0.025842854753136635 |  1.0009106397628784  |\n",
      "| XR:std  | 0.11406021565198898  | 0.11412779241800308  |  0.021813349798321724 |  0.014277500100433826  | 0.0034777778200805187  |  0.0   | 0.23648659884929657  | 0.056668154895305634 |\n",
      "| XR:good |         True         |         True         |          True         |          True          |          True          | False  |         True         |         True         |\n",
      "+---------+----------------------+----------------------+-----------------------+------------------------+------------------------+--------+----------------------+----------------------+\n"
     ]
    }
   ],
   "source": [
    "print_part_table(dt, start=69, fin=77, names=shape_dim_names)"
   ]
  },
  {
   "cell_type": "markdown",
   "id": "aeea0e07-135a-4dc4-a719-69fc050527f3",
   "metadata": {},
   "source": [
    "Dilation factor of the base area. A dilation factor of 1 means no dilation."
   ]
  },
  {
   "cell_type": "code",
   "execution_count": 33,
   "id": "e552a5e4-25ed-4397-a80d-f7a5595c5386",
   "metadata": {},
   "outputs": [
    {
     "data": {
      "text/plain": [
       "['w_Bdil0',\n",
       " 'w_Bdil1',\n",
       " 'w_Bdil2',\n",
       " 'w_Bdil3',\n",
       " 'w_Bdil4',\n",
       " 'w_Bdil5',\n",
       " 'w_Bdil_sum',\n",
       " 'w_Bdil_prod']"
      ]
     },
     "execution_count": 33,
     "metadata": {},
     "output_type": "execute_result"
    }
   ],
   "source": [
    "shape_dim_names = [f'w_Bdil{x}' for x in range(6)] + ['w_Bdil_sum', 'w_Bdil_prod']\n",
    "shape_dim_names"
   ]
  },
  {
   "cell_type": "code",
   "execution_count": 34,
   "id": "c3799bc4-1007-4369-a84f-d0f9d014c37d",
   "metadata": {
    "scrolled": true
   },
   "outputs": [
    {
     "name": "stdout",
     "output_type": "stream",
     "text": [
      "+---------+----------------------+----------------------+------------------------+------------------------+------------------------+---------+----------------------+----------------------+\n",
      "| ds_stat |       w_Bdil0        |       w_Bdil1        |        w_Bdil2         |        w_Bdil3         |        w_Bdil4         | w_Bdil5 |      w_Bdil_sum      |     w_Bdil_prod      |\n",
      "+---------+----------------------+----------------------+------------------------+------------------------+------------------------+---------+----------------------+----------------------+\n",
      "| ND:mean |         0.0          |         0.0          |          0.0           |          0.0           |          0.0           |   0.0   |         0.0          |         1.0          |\n",
      "| ND:std  |         0.0          |         0.0          |          0.0           |          0.0           |          0.0           |   0.0   |         0.0          |         0.0          |\n",
      "| ND:good |        False         |        False         |         False          |         False          |         False          |  False  |        False         |        False         |\n",
      "| NR:mean |         0.0          |         0.0          |          0.0           |          0.0           |          0.0           |   0.0   |         0.0          |         1.0          |\n",
      "| NR:std  |         0.0          |         0.0          |          0.0           |          0.0           |          0.0           |   0.0   |         0.0          |         0.0          |\n",
      "| NR:good |        False         |        False         |         False          |         False          |         False          |  False  |        False         |        False         |\n",
      "| XD:mean | 0.012252822518348694 | 0.012268776074051857 | 0.00048515808884985745 | 0.00020457342907320708 | 1.313774373556953e-05  |   0.0   | 0.025224467739462852 |  1.0007750988006592  |\n",
      "| XD:std  | 0.11212451756000519  | 0.11235269904136658  |  0.023061737418174744  |  0.014301460236310959  | 0.0036245803348720074  |   0.0   | 0.23348666727542877  | 0.052215151488780975 |\n",
      "| XD:good |         True         |         True         |          True          |          True          |          True          |  False  |         True         |         True         |\n",
      "| XR:mean | 0.012536544352769852 | 0.012551231309771538 |  0.000462204625364393  | 0.0002038883976638317  | 1.2095074453100096e-05 |   0.0   | 0.02576596289873123  |  1.000791311264038   |\n",
      "| XR:std  | 0.11341601610183716  | 0.11362368613481522  |  0.02247639000415802   |  0.014277500100433826  | 0.0034777778200805187  |   0.0   |  0.2356477826833725  | 0.052375853061676025 |\n",
      "| XR:good |         True         |         True         |          True          |          True          |          True          |  False  |         True         |         True         |\n",
      "+---------+----------------------+----------------------+------------------------+------------------------+------------------------+---------+----------------------+----------------------+\n"
     ]
    }
   ],
   "source": [
    "print_part_table(dt, start=77, fin=85, names=shape_dim_names)"
   ]
  },
  {
   "cell_type": "markdown",
   "id": "9aa3db78-faf8-4a33-8d18-7f1a0244e4b1",
   "metadata": {},
   "source": [
    "Window reversal means that this dimension was logically reversed before the operation."
   ]
  },
  {
   "cell_type": "code",
   "execution_count": 35,
   "id": "b89c70a2-630e-44b8-8a63-9add68e42e0c",
   "metadata": {},
   "outputs": [
    {
     "data": {
      "text/plain": [
       "['w_rev0',\n",
       " 'w_rev1',\n",
       " 'w_rev2',\n",
       " 'w_rev3',\n",
       " 'w_rev4',\n",
       " 'w_rev5',\n",
       " 'w_rev_sum',\n",
       " 'w_rev_prod']"
      ]
     },
     "execution_count": 35,
     "metadata": {},
     "output_type": "execute_result"
    }
   ],
   "source": [
    "shape_dim_names = [f'w_rev{x}' for x in range(6)] + ['w_rev_sum', 'w_rev_prod']\n",
    "shape_dim_names"
   ]
  },
  {
   "cell_type": "code",
   "execution_count": 36,
   "id": "0b8aace2-553d-4d4c-8088-6b79b5e95712",
   "metadata": {
    "scrolled": true
   },
   "outputs": [
    {
     "name": "stdout",
     "output_type": "stream",
     "text": [
      "+---------+-----------------------+-----------------------+-----------------------+--------+--------+--------+----------------------+----------------------+\n",
      "| ds_stat |         w_rev0        |         w_rev1        |         w_rev2        | w_rev3 | w_rev4 | w_rev5 |      w_rev_sum       |      w_rev_prod      |\n",
      "+---------+-----------------------+-----------------------+-----------------------+--------+--------+--------+----------------------+----------------------+\n",
      "| ND:mean |          0.0          |          0.0          |          0.0          |  0.0   |  0.0   |  0.0   |         0.0          |         0.0          |\n",
      "| ND:std  |          0.0          |          0.0          |          0.0          |  0.0   |  0.0   |  0.0   |         0.0          |         0.0          |\n",
      "| ND:good |         False         |         False         |         False         | False  | False  | False  |        False         |        False         |\n",
      "| NR:mean |          0.0          |          0.0          |          0.0          |  0.0   |  0.0   |  0.0   |         0.0          |         0.0          |\n",
      "| NR:std  |          0.0          |          0.0          |          0.0          |  0.0   |  0.0   |  0.0   |         0.0          |         0.0          |\n",
      "| NR:good |         False         |         False         |         False         | False  | False  | False  |        False         |        False         |\n",
      "| XD:mean | 0.0037517643067985773 | 0.0037517643067985773 | 8.445692219538614e-05 |  0.0   |  0.0   |  0.0   | 0.007587985135614872 | 0.017135370522737503 |\n",
      "| XD:std  |  0.06113666668534279  |  0.06113666668534279  |  0.009189660660922527 |  0.0   |  0.0   |  0.0   |  0.1239829733967781  |  0.1903400719165802  |\n",
      "| XD:good |          True         |          True         |          True         | False  | False  | False  |         True         |         True         |\n",
      "| XR:mean | 0.0038064925465732813 | 0.0038064925465732813 | 7.775404810672626e-05 |  0.0   |  0.0   |  0.0   | 0.00769073935225606  | 0.017562048509716988 |\n",
      "| XR:std  |  0.06157926842570305  |  0.06157926842570305  |  0.008817486464977264 |  0.0   |  0.0   |  0.0   | 0.12472211569547653  | 0.19238905608654022  |\n",
      "| XR:good |          True         |          True         |          True         | False  | False  | False  |         True         |         True         |\n",
      "+---------+-----------------------+-----------------------+-----------------------+--------+--------+--------+----------------------+----------------------+\n"
     ]
    }
   ],
   "source": [
    "print_part_table(dt, start=85, fin=93, names=shape_dim_names)"
   ]
  },
  {
   "cell_type": "markdown",
   "id": "e7ecc42d-4939-4a34-8405-f833533f77cb",
   "metadata": {},
   "source": [
    "## 93–106: The dimension numbers used for a convolution."
   ]
  },
  {
   "cell_type": "code",
   "execution_count": 37,
   "id": "628fcdd7-fb69-4b5a-9041-227b50d11187",
   "metadata": {},
   "outputs": [
    {
     "data": {
      "text/plain": [
       "['inbdim', 'infdim', 'convdim0', 'convdim1', 'convdim2', 'convdim3']"
      ]
     },
     "execution_count": 37,
     "metadata": {},
     "output_type": "execute_result"
    }
   ],
   "source": [
    "shape_dim_names = ['inbdim', 'infdim'] + [f'convdim{x}' for x in range(4)]\n",
    "shape_dim_names"
   ]
  },
  {
   "cell_type": "code",
   "execution_count": 38,
   "id": "34df4e49-19b7-4a44-b8c8-63f55cb62f9f",
   "metadata": {
    "scrolled": true
   },
   "outputs": [
    {
     "name": "stdout",
     "output_type": "stream",
     "text": [
      "+---------+----------------------+----------------------+----------------------+----------------------+-----------------------+----------+\n",
      "| ds_stat |        inbdim        |        infdim        |       convdim0       |       convdim1       |        convdim2       | convdim3 |\n",
      "+---------+----------------------+----------------------+----------------------+----------------------+-----------------------+----------+\n",
      "| ND:mean |         0.0          |         0.0          |         0.0          |         0.0          |          0.0          |   0.0    |\n",
      "| ND:std  |         0.0          |         0.0          |         0.0          |         0.0          |          0.0          |   0.0    |\n",
      "| ND:good |        False         |        False         |        False         |        False         |         False         |  False   |\n",
      "| NR:mean |         0.0          |         0.0          |         0.0          |         0.0          |          0.0          |   0.0    |\n",
      "| NR:std  |         0.0          |         0.0          |         0.0          |         0.0          |          0.0          |   0.0    |\n",
      "| NR:good |        False         |        False         |        False         |        False         |         False         |  False   |\n",
      "| XD:mean | 0.011550892144441605 | 0.023839375004172325 | 0.011625965125858784 | 0.023353276774287224 | 0.0007770037045702338 |   0.0    |\n",
      "| XD:std  |  0.1864289790391922  | 0.26761895418167114  |  0.1072477176785469  | 0.21481232345104218  |  0.048274315893650055 |   0.0    |\n",
      "| XD:good |         True         |         True         |         True         |         True         |          True         |  False   |\n",
      "| XR:mean | 0.011748637072741985 | 0.024279996752738953 | 0.011843669228255749 | 0.023785827681422234 | 0.0007153372280299664 |   0.0    |\n",
      "| XR:std  | 0.18792353570461273  |  0.2699396014213562  | 0.10823018848896027  | 0.21676068007946014  |  0.04631956294178963  |   0.0    |\n",
      "| XR:good |         True         |         True         |         True         |         True         |          True         |  False   |\n",
      "+---------+----------------------+----------------------+----------------------+----------------------+-----------------------+----------+\n"
     ]
    }
   ],
   "source": [
    "print_part_table(dt, start=93, fin=99, names=shape_dim_names)"
   ]
  },
  {
   "cell_type": "code",
   "execution_count": null,
   "id": "cc5c3d5d-f324-42ca-b30e-321c146a8dc2",
   "metadata": {},
   "outputs": [],
   "source": []
  },
  {
   "cell_type": "code",
   "execution_count": 39,
   "id": "56b1e852-4a84-456f-b2b8-00cc065a8564",
   "metadata": {},
   "outputs": [],
   "source": [
    " shape_dim_names = ['ker_in', 'ker_out'] + [f'kerdim{x}' for x in range(4)]  + ['outbdim', 'outfdim'] + ['fgroup', 'bgroup']"
   ]
  },
  {
   "cell_type": "code",
   "execution_count": 40,
   "id": "e267c61a-d191-4083-99ed-cfc18646e9c2",
   "metadata": {
    "scrolled": true
   },
   "outputs": [
    {
     "name": "stdout",
     "output_type": "stream",
     "text": [
      "+---------+----------------------+---------------------+-----------------------+----------------------+-----------------------+---------+---------------------+---------------------+-----------------------+-----------------------+\n",
      "| ds_stat |        ker_in        |       ker_out       |        kerdim0        |       kerdim1        |        kerdim2        | kerdim3 |       outbdim       |       outfdim       |         fgroup        |         bgroup        |\n",
      "+---------+----------------------+---------------------+-----------------------+----------------------+-----------------------+---------+---------------------+---------------------+-----------------------+-----------------------+\n",
      "| ND:mean |         0.0          |         0.0         |          0.0          |         0.0          |          0.0          |   0.0   |         0.0         |         0.0         | 0.0014160940190777183 | 0.0014160940190777183 |\n",
      "| ND:std  |         0.0          |         0.0         |          0.0          |         0.0          |          0.0          |   0.0   |         0.0         |         0.0         |  0.03760438412427902  |  0.03760438412427902  |\n",
      "| ND:good |        False         |        False        |         False         |        False         |         False         |  False  |        False        |        False        |          True         |          True         |\n",
      "| NR:mean |         0.0          |         0.0         |          0.0          |         0.0          |          0.0          |   0.0   |         0.0         |         0.0         | 0.0014310689875856042 | 0.0014310689875856042 |\n",
      "| NR:std  |         0.0          |         0.0         |          0.0          |         0.0          |          0.0          |   0.0   |         0.0         |         0.0         |  0.03780240938067436  |  0.03780240938067436  |\n",
      "| NR:good |        False         |        False        |         False         |        False         |         False         |  False  |        False        |        False        |          True         |          True         |\n",
      "| XD:mean | 0.019694415852427483 | 0.03156249225139618 | 0.0037996231112629175 | 0.015484707430005074 | 0.0006052746321074665 |   0.0   | 0.00773813109844923 | 0.03524668887257576 |  0.48027554154396057  |   0.247099369764328   |\n",
      "| XD:std  | 0.22569981217384338  |  0.295050710439682  |  0.06152389571070671  | 0.15114296972751617  |  0.038366660475730896 |   0.0   | 0.12502141296863556 |  0.3247557282447815 |   29.303922653198242  |   20.72248077392578   |\n",
      "| XD:good |         True         |         True        |          True         |         True         |          True         |  False  |         True        |         True        |          True         |          True         |\n",
      "| XR:mean | 0.020038945600390434 |  0.0321417972445488 | 0.0038661041762679815 | 0.015769384801387787 | 0.0005572373629547656 |   0.0   | 0.00786007009446621 | 0.03588608652353287 |   0.4434071481227875  |  0.22873686254024506  |\n",
      "| XR:std  | 0.22743277251720428  |  0.2976199984550476 |  0.06205771863460541  | 0.15248914062976837  |  0.03681308031082153  |   0.0   | 0.12591803073883057 | 0.32750895619392395 |   28.11734390258789   |   19.883296966552734  |\n",
      "| XR:good |         True         |         True        |          True         |         True         |          True         |  False  |         True        |         True        |          True         |          True         |\n",
      "+---------+----------------------+---------------------+-----------------------+----------------------+-----------------------+---------+---------------------+---------------------+-----------------------+-----------------------+\n"
     ]
    }
   ],
   "source": [
    "print_part_table(dt, start=99, fin=109, names=shape_dim_names)"
   ]
  },
  {
   "cell_type": "markdown",
   "id": "6f7665e6-10c1-4b42-94c2-b2b5b2dcc0bc",
   "metadata": {},
   "source": [
    "## Slice"
   ]
  },
  {
   "cell_type": "code",
   "execution_count": 41,
   "id": "cafbb813-d8f6-4d7d-a8bb-20c976702589",
   "metadata": {},
   "outputs": [
    {
     "data": {
      "text/plain": [
       "['sl_st0',\n",
       " 'sl_st1',\n",
       " 'sl_stsum',\n",
       " 'sl_stprod',\n",
       " 'sl_sr0',\n",
       " 'sl_sr1',\n",
       " 'sl_srsum',\n",
       " 'sl_srprod']"
      ]
     },
     "execution_count": 41,
     "metadata": {},
     "output_type": "execute_result"
    }
   ],
   "source": [
    "shape_dim_names = [f'sl_st{x}' for x in [0, 1, 'sum', 'prod']] + [f'sl_sr{x}' for x in [0, 1, 'sum', 'prod']] \n",
    "shape_dim_names"
   ]
  },
  {
   "cell_type": "code",
   "execution_count": 42,
   "id": "8d7c4544-ffae-49b2-aa2b-4d4a829a10fe",
   "metadata": {
    "scrolled": true
   },
   "outputs": [
    {
     "name": "stdout",
     "output_type": "stream",
     "text": [
      "+---------+-----------------------+--------------------+-----------------------+----------------------+-----------------------+-----------------------+----------------------+-----------+\n",
      "| ds_stat |         sl_st0        |       sl_st1       |        sl_stsum       |      sl_stprod       |         sl_sr0        |         sl_sr1        |       sl_srsum       | sl_srprod |\n",
      "+---------+-----------------------+--------------------+-----------------------+----------------------+-----------------------+-----------------------+----------------------+-----------+\n",
      "| ND:mean | 0.0006405261228792369 |        0.0         | 0.0006405261228792369 |  0.9978998303413391  | 0.0027406844310462475 |  0.001570322085171938 | 0.004657835233956575 |    1.0    |\n",
      "| ND:std  |  0.03171957656741142  |        0.0         |  0.03171957656741142  | 0.049616169184446335 |  0.05227977782487869  |  0.03959617763757706  | 0.09572933614253998  |    0.0    |\n",
      "| ND:good |          True         |       False        |          True         |         True         |          True         |          True         |         True         |   False   |\n",
      "| NR:mean | 0.0006387666217051446 |        0.0         | 0.0006387666217051446 |  0.9978678822517395  |  0.002770885592326522 | 0.0015961923636496067 | 0.004720499739050865 |    1.0    |\n",
      "| NR:std  |  0.031675998121500015 |        0.0         |  0.031675998121500015 |  0.0499257892370224  |  0.05256624147295952  |  0.039920490235090256 | 0.09645877778530121  |    0.0    |\n",
      "| NR:good |          True         |       False        |          True         |         True         |          True         |          True         |         True         |   False   |\n",
      "| XD:mean |  0.027355598285794258 | 3.9414150714874268 |   4.119473934173584   |  0.994330108165741   |  0.014911338686943054 |  0.010229609906673431 | 0.03467801213264465  |    1.0    |\n",
      "| XD:std  |   1.8685237169265747  | 523.7169189453125  |    523.78076171875    |  1.0713186264038086  |  0.12119820713996887  |  0.10062293708324432  | 0.31160232424736023  |    0.0    |\n",
      "| XD:good |          True         |        True        |          True         |         True         |          True         |          True         |         True         |   False   |\n",
      "| XR:mean |  0.026182379573583603 | 5.365209102630615  |   5.576388835906982   |  0.9922090172767639  |  0.016388826072216034 |  0.011990537866950035 | 0.038248080760240555 |    1.0    |\n",
      "| XR:std  |   1.7959047555923462  |  506.59033203125   |   506.6944580078125   |  1.0296322107315063  |  0.12696552276611328  |   0.1088428944349289  | 0.32385262846946716  |    0.0    |\n",
      "| XR:good |          True         |        True        |          True         |         True         |          True         |          True         |         True         |   False   |\n",
      "+---------+-----------------------+--------------------+-----------------------+----------------------+-----------------------+-----------------------+----------------------+-----------+\n"
     ]
    }
   ],
   "source": [
    "print_part_table(dt, start=109, fin=117, names=shape_dim_names)"
   ]
  },
  {
   "cell_type": "code",
   "execution_count": 43,
   "id": "3444b911-7eea-4d85-8de2-fc3a7451d7e7",
   "metadata": {},
   "outputs": [
    {
     "data": {
      "text/plain": [
       "['sl_lim0',\n",
       " 'sl_lim1',\n",
       " 'sl_limsum',\n",
       " 'sl_limprod',\n",
       " 'sl_dyn0',\n",
       " 'sl_dyn1',\n",
       " 'sl_dynsum',\n",
       " 'sl_dynprod']"
      ]
     },
     "execution_count": 43,
     "metadata": {},
     "output_type": "execute_result"
    }
   ],
   "source": [
    "shape_dim_names = [f'sl_lim{x}' for x in [0, 1, 'sum', 'prod']] + [f'sl_dyn{x}' for x in [0, 1, 'sum', 'prod']] \n",
    "shape_dim_names"
   ]
  },
  {
   "cell_type": "code",
   "execution_count": 44,
   "id": "f77805a9-33e5-4e73-b554-16962a4ce579",
   "metadata": {
    "scrolled": true
   },
   "outputs": [
    {
     "name": "stdout",
     "output_type": "stream",
     "text": [
      "+---------+---------------------+---------------------+--------------------+--------------------+-----------------------+---------------------+--------------------+--------------------+\n",
      "| ds_stat |       sl_lim0       |       sl_lim1       |     sl_limsum      |     sl_limprod     |        sl_dyn0        |       sl_dyn1       |     sl_dynsum      |     sl_dynprod     |\n",
      "+---------+---------------------+---------------------+--------------------+--------------------+-----------------------+---------------------+--------------------+--------------------+\n",
      "| ND:mean | 0.05056688189506531 | 0.21530163288116455 | 0.4904836118221283 | 40.131080627441406 |          0.0          |         0.0         |        0.0         |        1.0         |\n",
      "| ND:std  |  2.401024580001831  |  12.008613586425781 | 21.679203033447266 | 1884.220947265625  |          0.0          |         0.0         |        0.0         |        0.0         |\n",
      "| ND:good |         True        |         True        |        True        |        True        |         False         |        False        |       False        |       False        |\n",
      "| NR:mean | 0.05144895613193512 | 0.21461109817028046 | 0.4889128506183624 | 39.88251495361328  |          0.0          |         0.0         |        0.0         |        1.0         |\n",
      "| NR:std  |  2.4233782291412354 |  11.921940803527832 | 21.52989387512207  |  1869.9306640625   |          0.0          |         0.0         |        0.0         |        0.0         |\n",
      "| NR:good |         True        |         True        |        True        |        True        |         False         |        False        |       False        |       False        |\n",
      "| XD:mean |  0.6898244619369507 |  10.570591926574707 | 12.45218563079834  |  16629.517578125   | 0.0004129005246795714 | 0.04250435531139374 | 0.6321929097175598 | 77.71623992919922  |\n",
      "| XD:std  |  42.20598602294922  |  845.5994262695312  | 851.2296142578125  |    1972004.625     |  0.03394404798746109  |  4.310109615325928  | 55.471622467041016 |  26208.123046875   |\n",
      "| XD:good |         True        |         True        |        True        |        True        |          True         |         True        |        True        |        True        |\n",
      "| XR:mean |  0.7343602180480957 |  13.823347091674805 | 16.364849090576172 |   15662.70703125   | 0.0010151222813874483 | 0.08245903253555298 | 1.673761248588562  | 105.50062561035156 |\n",
      "| XR:std  |  41.20403289794922  |  822.7586059570312  | 829.4946899414062  |     1892718.25     |  0.04630463570356369  |  6.553157806396484  | 80.63723754882812  |   27582.8359375    |\n",
      "| XR:good |         True        |         True        |        True        |        True        |          True         |         True        |        True        |        True        |\n",
      "+---------+---------------------+---------------------+--------------------+--------------------+-----------------------+---------------------+--------------------+--------------------+\n"
     ]
    }
   ],
   "source": [
    "print_part_table(dt, start=117, fin=125, names=shape_dim_names)"
   ]
  },
  {
   "cell_type": "code",
   "execution_count": 45,
   "id": "9a121dd3-7fd5-4b6c-b14c-6e38b69edef8",
   "metadata": {},
   "outputs": [
    {
     "data": {
      "text/plain": [
       "['pad_low0',\n",
       " 'pad_low1',\n",
       " 'pad_lowsum',\n",
       " 'pad_lowprod',\n",
       " 'pad_high0',\n",
       " 'pad_high1',\n",
       " 'pad_highsum',\n",
       " 'pad_highprod']"
      ]
     },
     "execution_count": 45,
     "metadata": {},
     "output_type": "execute_result"
    }
   ],
   "source": [
    "shape_dim_names = [f'pad_low{x}' for x in [0, 1, 'sum', 'prod']] + [f'pad_high{x}' for x in [0, 1, 'sum', 'prod']] \n",
    "shape_dim_names"
   ]
  },
  {
   "cell_type": "code",
   "execution_count": 46,
   "id": "a9e37b3a-00dc-46a7-97fe-8dee491db777",
   "metadata": {
    "scrolled": true
   },
   "outputs": [
    {
     "name": "stdout",
     "output_type": "stream",
     "text": [
      "+---------+------------------------+------------------------+----------------------+----------------------+----------------------+----------------------+---------------------+----------------------+\n",
      "| ds_stat |        pad_low0        |        pad_low1        |      pad_lowsum      |     pad_lowprod      |      pad_high0       |      pad_high1       |     pad_highsum     |     pad_highprod     |\n",
      "+---------+------------------------+------------------------+----------------------+----------------------+----------------------+----------------------+---------------------+----------------------+\n",
      "| ND:mean |          0.0           |          0.0           |         0.0          |  0.9996339678764343  | 0.03532043844461441  | 0.01162097416818142  | 0.04694141447544098 |  0.9998170137405396  |\n",
      "| ND:std  |          0.0           |          0.0           |         0.0          | 0.019128022715449333 |  3.673107624053955   |  1.2147961854934692  |  3.8686726093292236 | 0.013526791706681252 |\n",
      "| ND:good |         False          |         False          |        False         |         True         |         True         |         True         |         True        |         True         |\n",
      "| NR:mean |          0.0           |          0.0           |         0.0          |  0.9996349811553955  | 0.03522341698408127  | 0.011589051224291325 | 0.04681246727705002 |  0.9998174905776978  |\n",
      "| NR:std  |          0.0           |          0.0           |         0.0          | 0.019101740792393684 |  3.6680595874786377  |  1.2131266593933105  |  3.863356351852417  | 0.013508203439414501 |\n",
      "| NR:good |         False          |         False          |        False         |         True         |         True         |         True         |         True        |         True         |\n",
      "| XD:mean |  5.63046160095837e-06  | 0.00013982312520965934 |  0.0170940812677145  |  0.9983755946159363  | 0.00769214890897274  | 0.04158471152186394  | 0.09392736107110977 |  25.29322052001953   |\n",
      "| XD:std  | 0.0023728536907583475  |  0.08781176060438156   |  2.135462522506714   | 0.04027096927165985  |  3.250124216079712   |  2.1827409267425537  |  33.02678298950195  |   25077.865234375    |\n",
      "| XD:good |          True          |          True          |         True         |         True         |         True         |         True         |         True        |         True         |\n",
      "| XR:mean | 1.0367206414230168e-05 | 0.00013390975072979927 | 0.015751242637634277 |  0.9984354376792908  | 0.008878648281097412 | 0.04034225642681122  | 0.09036920964717865 |  23.366926193237305  |\n",
      "| XR:std  | 0.0032197993714362383  |   0.0842859223484993   |  2.048982858657837   |  0.0395238883793354  |  3.1334285736083984  |  2.156806468963623   |  31.694795608520508 |   24062.150390625    |\n",
      "| XR:good |          True          |          True          |         True         |         True         |         True         |         True         |         True        |         True         |\n",
      "+---------+------------------------+------------------------+----------------------+----------------------+----------------------+----------------------+---------------------+----------------------+\n"
     ]
    }
   ],
   "source": [
    "print_part_table(dt, start=125, fin=133, names=shape_dim_names)"
   ]
  },
  {
   "cell_type": "code",
   "execution_count": 47,
   "id": "8196f3fe-0998-48d5-8cfb-490db712e3ad",
   "metadata": {},
   "outputs": [
    {
     "data": {
      "text/plain": [
       "['stab', 'lo0', 'lo1', 'lo2', 'lo3', 'lo4', 'lo5']"
      ]
     },
     "execution_count": 47,
     "metadata": {},
     "output_type": "execute_result"
    }
   ],
   "source": [
    "shape_dim_names = ['stab'] + [f'lo{x}' for x in range(6)] \n",
    "shape_dim_names"
   ]
  },
  {
   "cell_type": "code",
   "execution_count": 48,
   "id": "1120e957-9d2f-4dc0-84a3-12f822f9bdff",
   "metadata": {
    "scrolled": true
   },
   "outputs": [
    {
     "name": "stdout",
     "output_type": "stream",
     "text": [
      "+---------+------------------------+--------------------+---------------------+---------------------+------------------------+------------------------+-------+\n",
      "| ds_stat |          stab          |        lo0         |         lo1         |         lo2         |          lo3           |          lo4           |  lo5  |\n",
      "+---------+------------------------+--------------------+---------------------+---------------------+------------------------+------------------------+-------+\n",
      "| ND:mean |          0.0           | 0.8644283413887024 |  0.4257705509662628 | 0.09657997637987137 | 0.00013282799045555294 |          0.0           |  0.0  |\n",
      "| ND:std  |          0.0           | 0.9897216558456421 |  0.6563507914543152 | 0.31468528509140015 |  0.01629842072725296   |          0.0           |  0.0  |\n",
      "| ND:good |         False          |        True        |         True        |         True        |          True          |         False          | False |\n",
      "| NR:mean |          0.0           | 0.8640151619911194 | 0.42542725801467896 |  0.0965355932712555 | 0.0001303605386056006  |          0.0           |  0.0  |\n",
      "| NR:std  |          0.0           | 0.9896661043167114 |  0.6562816500663757 |  0.3145523965358734 |  0.01614633947610855   |          0.0           |  0.0  |\n",
      "| NR:good |         False          |        True        |         True        |         True        |          True          |         False          | False |\n",
      "| XD:mean | 0.0004016395832877606  | 0.8737134337425232 |  0.5351237654685974 | 0.22782911360263824 |  0.008501997217535973  | 0.00014451518654823303 |  0.0  |\n",
      "| XD:std  |  0.020036932080984116  |  1.22719407081604  |  0.8547565340995789 | 0.46763333678245544 |  0.09367527067661285   |  0.013139511458575726  |  0.0  |\n",
      "| XD:good |          True          |        True        |         True        |         True        |          True          |          True          | False |\n",
      "| XR:mean | 0.00044751775567419827 | 0.9016152024269104 |  0.5404632091522217 | 0.22631439566612244 |  0.009811696596443653  | 0.0001796982396626845  |  0.0  |\n",
      "| XR:std  |  0.02114989049732685   | 1.2247722148895264 |  0.854144275188446  |  0.4680294990539551 |  0.10208885371685028   |  0.014695283956825733  |  0.0  |\n",
      "| XR:good |          True          |        True        |         True        |         True        |          True          |          True          | False |\n",
      "+---------+------------------------+--------------------+---------------------+---------------------+------------------------+------------------------+-------+\n"
     ]
    }
   ],
   "source": [
    "print_part_table(dt, start=133, fin=140, names=shape_dim_names)"
   ]
  },
  {
   "cell_type": "markdown",
   "id": "5b414b59-9eae-4a89-9152-11ceac910597",
   "metadata": {},
   "source": [
    "# Analysis"
   ]
  },
  {
   "cell_type": "code",
   "execution_count": 49,
   "id": "eeab85e0-bf41-4202-a128-337a206f18d6",
   "metadata": {},
   "outputs": [],
   "source": [
    "af = 140\n",
    "badf = 27\n",
    "badNf = 71"
   ]
  },
  {
   "cell_type": "code",
   "execution_count": 50,
   "id": "563c8689-049d-40fe-9d75-3d354d55948a",
   "metadata": {},
   "outputs": [
    {
     "name": "stdout",
     "output_type": "stream",
     "text": [
      "X 113\n"
     ]
    }
   ],
   "source": [
    "print('X', af - badf)"
   ]
  },
  {
   "cell_type": "code",
   "execution_count": 51,
   "id": "608b97c6-f8a5-4d54-a953-e4237bba1672",
   "metadata": {},
   "outputs": [
    {
     "name": "stdout",
     "output_type": "stream",
     "text": [
      "N 42\n"
     ]
    }
   ],
   "source": [
    "print('N', af - badf - badNf)"
   ]
  },
  {
   "cell_type": "code",
   "execution_count": 53,
   "id": "9c50ce97-2480-473a-baa6-16b0cd478325",
   "metadata": {},
   "outputs": [
    {
     "name": "stdout",
     "output_type": "stream",
     "text": [
      "ND 40\n",
      "NR 40\n",
      "XD 112\n",
      "XR 112\n"
     ]
    }
   ],
   "source": [
    "for ds in dt:\n",
    "    print(ds, np.sum(dt[ds]['good']))"
   ]
  },
  {
   "cell_type": "code",
   "execution_count": 78,
   "id": "cbb4ea62-2cd1-46e8-bc58-344675e04a15",
   "metadata": {},
   "outputs": [],
   "source": [
    "compare = dt['XD']['good'] == dt['XR']['good']"
   ]
  },
  {
   "cell_type": "code",
   "execution_count": 79,
   "id": "30db11f7-cd52-44d9-8393-f52470146311",
   "metadata": {},
   "outputs": [
    {
     "data": {
      "text/plain": [
       "140"
      ]
     },
     "execution_count": 79,
     "metadata": {},
     "output_type": "execute_result"
    }
   ],
   "source": [
    "np.sum(compare)"
   ]
  },
  {
   "cell_type": "code",
   "execution_count": 80,
   "id": "8263b85e-0f04-494e-b553-77f86a5a9e83",
   "metadata": {},
   "outputs": [
    {
     "data": {
      "text/plain": [
       "(1, 140)"
      ]
     },
     "execution_count": 80,
     "metadata": {},
     "output_type": "execute_result"
    }
   ],
   "source": [
    "compare.shape"
   ]
  },
  {
   "cell_type": "code",
   "execution_count": 81,
   "id": "a8ee0956-8af8-46d6-92a3-aef144a176f1",
   "metadata": {},
   "outputs": [],
   "source": [
    "compare = dt['ND']['good'] == dt['NR']['good']"
   ]
  },
  {
   "cell_type": "code",
   "execution_count": 82,
   "id": "77c9ffbd-d12f-4aa1-95f3-734845eac867",
   "metadata": {},
   "outputs": [
    {
     "data": {
      "text/plain": [
       "140"
      ]
     },
     "execution_count": 82,
     "metadata": {},
     "output_type": "execute_result"
    }
   ],
   "source": [
    "np.sum(compare)"
   ]
  },
  {
   "cell_type": "code",
   "execution_count": 83,
   "id": "8d359741-ed17-43d3-8645-ce565ef72d87",
   "metadata": {},
   "outputs": [
    {
     "data": {
      "text/plain": [
       "(1, 140)"
      ]
     },
     "execution_count": 83,
     "metadata": {},
     "output_type": "execute_result"
    }
   ],
   "source": [
    "compare.shape"
   ]
  },
  {
   "cell_type": "markdown",
   "id": "550ac29d-a83b-412c-a89d-5ce9a9240db4",
   "metadata": {},
   "source": [
    "# Config features data"
   ]
  },
  {
   "cell_type": "code",
   "execution_count": 104,
   "id": "36583185-1169-430f-af57-e07bd0f84a29",
   "metadata": {},
   "outputs": [],
   "source": [
    "with open(path_cut / 'nlp_conf_inds.json', 'r') as fob:\n",
    "    nlp_conf_inds = json.load(fob)"
   ]
  },
  {
   "cell_type": "code",
   "execution_count": 105,
   "id": "174a9885-e339-4fc4-a578-124ee18ddce9",
   "metadata": {},
   "outputs": [],
   "source": [
    "with open(path_cut / 'xla_conf_inds.json', 'r') as fob:\n",
    "    xla_conf_inds = json.load(fob)"
   ]
  },
  {
   "cell_type": "code",
   "execution_count": null,
   "id": "f0dc8688-e1d6-42a4-b9de-d6988b3e10b7",
   "metadata": {},
   "outputs": [],
   "source": []
  },
  {
   "cell_type": "code",
   "execution_count": null,
   "id": "a0ebe43d-87f7-487a-84f2-39b6781ee025",
   "metadata": {},
   "outputs": [],
   "source": []
  },
  {
   "cell_type": "markdown",
   "id": "48e12964-3b77-4648-b498-40eca2978607",
   "metadata": {},
   "source": [
    "# Save configs"
   ]
  },
  {
   "cell_type": "code",
   "execution_count": 106,
   "id": "ff416b47-ba15-479d-826f-0875a71ef844",
   "metadata": {},
   "outputs": [
    {
     "data": {
      "text/plain": [
       "40"
      ]
     },
     "execution_count": 106,
     "metadata": {},
     "output_type": "execute_result"
    }
   ],
   "source": [
    "n_ind = np.nonzero(dt['ND']['good'])[1].tolist()\n",
    "len(n_ind)"
   ]
  },
  {
   "cell_type": "code",
   "execution_count": 107,
   "id": "11c1c8c3-3e0f-4dfd-8272-435cc66a9289",
   "metadata": {},
   "outputs": [
    {
     "data": {
      "text/plain": [
       "112"
      ]
     },
     "execution_count": 107,
     "metadata": {},
     "output_type": "execute_result"
    }
   ],
   "source": [
    "x_ind = np.nonzero(dt['XD']['good'])[1].tolist()\n",
    "len(x_ind)"
   ]
  },
  {
   "cell_type": "code",
   "execution_count": 108,
   "id": "76453cb1-23e5-4e96-a273-3c15c71266d9",
   "metadata": {},
   "outputs": [],
   "source": [
    "x_mean = (dt['XD']['mean'] + dt['XR']['mean'])/2\n",
    "x_std  = (dt['XD']['std'] + dt['XR']['std'])/2\n",
    "n_mean = (dt['ND']['mean'] + dt['NR']['mean'])/2\n",
    "n_std  = (dt['ND']['std'] + dt['NR']['std'])/2"
   ]
  },
  {
   "cell_type": "code",
   "execution_count": 110,
   "id": "ca13dfcb-57ea-43a0-a161-4ed00198e557",
   "metadata": {},
   "outputs": [],
   "source": [
    "out_data = {'nlp': dict(), 'xla': dict()}"
   ]
  },
  {
   "cell_type": "code",
   "execution_count": 111,
   "id": "4f37af8d-bf6f-44a7-8513-3c9ba718bcad",
   "metadata": {},
   "outputs": [],
   "source": [
    "out_data['nlp']['mean'] = n_mean[dt['ND']['good']].tolist()\n",
    "out_data['nlp']['std'] = n_std[dt['ND']['good']].tolist()\n",
    "out_data['nlp']['node_feats_ind'] = n_ind\n",
    "out_data['nlp']['config_feats_ind'] = nlp_conf_inds\n",
    "out_data['xla']['mean'] = x_mean[dt['XD']['good']].tolist()\n",
    "out_data['xla']['std'] = x_std[dt['XD']['good']].tolist()\n",
    "out_data['xla']['node_feats_ind'] = x_ind\n",
    "out_data['xla']['config_feats_ind'] = xla_conf_inds"
   ]
  },
  {
   "cell_type": "code",
   "execution_count": 112,
   "id": "0584fe80-8b02-4e0a-8aae-a38d183825e5",
   "metadata": {},
   "outputs": [
    {
     "name": "stdout",
     "output_type": "stream",
     "text": [
      "nlp mean 40\n",
      "nlp std 40\n",
      "nlp node_feats_ind 40\n",
      "nlp config_feats_ind 8\n",
      "xla mean 112\n",
      "xla std 112\n",
      "xla node_feats_ind 112\n",
      "xla config_feats_ind 14\n"
     ]
    }
   ],
   "source": [
    "for source in out_data:\n",
    "    for field in out_data[source]:\n",
    "        print(source, field, len(out_data[source][field]))"
   ]
  },
  {
   "cell_type": "code",
   "execution_count": 113,
   "id": "ed16539e-d875-4117-8ad7-f572eadd20c2",
   "metadata": {},
   "outputs": [],
   "source": [
    "with open(path_cut / 'sel_features_info.json', 'w') as fob:\n",
    "    json.dump(out_data, fob, indent=4)"
   ]
  },
  {
   "cell_type": "code",
   "execution_count": 77,
   "id": "e2352350-c75b-4fc0-93ec-7d5a23fbcf9e",
   "metadata": {
    "scrolled": true
   },
   "outputs": [
    {
     "data": {
      "text/plain": [
       "[0.040750496089458466,\n",
       " 0.0,\n",
       " 0.0,\n",
       " 0.028648223727941513,\n",
       " 0.0,\n",
       " 0.0,\n",
       " 0.0290534608066082,\n",
       " 0.00139114900957793,\n",
       " 0.0,\n",
       " 0.0,\n",
       " 0.1887950599193573,\n",
       " 0.0,\n",
       " 0.0,\n",
       " 0.6626116037368774,\n",
       " 0.0,\n",
       " 0.08196435868740082,\n",
       " 0.0,\n",
       " 0.0,\n",
       " 0.007372451946139336,\n",
       " 0.0,\n",
       " 0.00016364094335585833,\n",
       " 906.3327026367188,\n",
       " 197.36798095703125,\n",
       " 124.34742736816406,\n",
       " 93.56062316894531,\n",
       " 2.0349953174591064,\n",
       " 0.02110159397125244,\n",
       " 1323.6650390625,\n",
       " 1991441.375,\n",
       " 0.28058093786239624,\n",
       " 0.041419267654418945,\n",
       " 0.0981203243136406,\n",
       " 0.04571723937988281,\n",
       " 0.04038899019360542,\n",
       " 0.017283936962485313,\n",
       " 0.0007845485233701766,\n",
       " 0.0001706641196506098,\n",
       " 0.1633576601743698,\n",
       " 0.1740495264530182,\n",
       " 0.004057419020682573,\n",
       " 0.00021864965674467385,\n",
       " 1.2616408639587462e-05,\n",
       " 0.0,\n",
       " 0.3416958749294281,\n",
       " 31.724498748779297,\n",
       " 0.01256207749247551,\n",
       " 0.012702325358986855,\n",
       " 0.0006013126694597304,\n",
       " 0.00021684731473214924,\n",
       " 1.2616408639587462e-05,\n",
       " 0.0,\n",
       " 0.026095181703567505,\n",
       " 1.0018088817596436,\n",
       " 0.005652285180985928,\n",
       " 0.015054646879434586,\n",
       " 0.00023070003953762352,\n",
       " 0.0,\n",
       " 0.0,\n",
       " 0.0,\n",
       " 0.020937632769346237,\n",
       " 0.9934816360473633,\n",
       " 0.004930275492370129,\n",
       " 0.005102287046611309,\n",
       " 0.00031259498791769147,\n",
       " 1.8023440588876838e-06,\n",
       " 0.0,\n",
       " 0.0,\n",
       " 0.01034696027636528,\n",
       " 0.9937268495559692,\n",
       " 0.012438617646694183,\n",
       " 0.0124440249055624,\n",
       " 0.00046466963249258697,\n",
       " 0.000204230920644477,\n",
       " 1.2616408639587462e-05,\n",
       " 0.0,\n",
       " 0.02556416019797325,\n",
       " 1.0008907318115234,\n",
       " 0.012394683435559273,\n",
       " 0.012410003691911697,\n",
       " 0.00047368137165904045,\n",
       " 0.000204230920644477,\n",
       " 1.2616408639587462e-05,\n",
       " 0.0,\n",
       " 0.025495216250419617,\n",
       " 1.0007832050323486,\n",
       " 0.0037791284266859293,\n",
       " 0.0037791284266859293,\n",
       " 8.11054851510562e-05,\n",
       " 0.0,\n",
       " 0.0,\n",
       " 0.0,\n",
       " 0.0076393624767661095,\n",
       " 0.01734871044754982,\n",
       " 0.011649765074253082,\n",
       " 0.024059686809778214,\n",
       " 0.011734817177057266,\n",
       " 0.02356955222785473,\n",
       " 0.0007461704663001001,\n",
       " 0.0,\n",
       " 0.01986668072640896,\n",
       " 0.03185214474797249,\n",
       " 0.0038328636437654495,\n",
       " 0.015627045184373856,\n",
       " 0.000581255997531116,\n",
       " 0.0,\n",
       " 0.00779910059645772,\n",
       " 0.03556638956069946,\n",
       " 0.461841344833374,\n",
       " 0.23791810870170593,\n",
       " 0.026768989861011505,\n",
       " 4.6533122062683105,\n",
       " 4.847931385040283,\n",
       " 0.9932695627212524,\n",
       " 0.015650082379579544,\n",
       " 0.011110073886811733,\n",
       " 0.036463044583797455,\n",
       " 1.0,\n",
       " 0.7120923399925232,\n",
       " 12.196969985961914,\n",
       " 14.408517837524414,\n",
       " 16146.1123046875,\n",
       " 0.0007140113739296794,\n",
       " 0.06248169392347336,\n",
       " 1.1529771089553833,\n",
       " 91.60842895507812,\n",
       " 7.998834007594269e-06,\n",
       " 0.0001368664379697293,\n",
       " 0.016422662883996964,\n",
       " 0.9984055161476135,\n",
       " 0.008285398595035076,\n",
       " 0.04096348583698273,\n",
       " 0.09214828908443451,\n",
       " 24.330074310302734,\n",
       " 0.00042457866948097944,\n",
       " 0.8876643180847168,\n",
       " 0.5377935171127319,\n",
       " 0.22707176208496094,\n",
       " 0.0091568473726511,\n",
       " 0.00016210670582950115,\n",
       " 0.0]"
      ]
     },
     "execution_count": 77,
     "metadata": {},
     "output_type": "execute_result"
    }
   ],
   "source": [
    "x_mean[0].tolist()"
   ]
  },
  {
   "cell_type": "code",
   "execution_count": 73,
   "id": "e6445a63-7f19-4d74-bdf5-87a5ff0ec352",
   "metadata": {},
   "outputs": [
    {
     "data": {
      "text/plain": [
       "0.4516865"
      ]
     },
     "execution_count": 73,
     "metadata": {},
     "output_type": "execute_result"
    }
   ],
   "source": [
    "np.max(np.abs(x_mean[dt['XD']['good']] - dt['XD']['mean'][dt['XD']['good']])/x_mean[dt['XD']['good']])"
   ]
  },
  {
   "cell_type": "code",
   "execution_count": 74,
   "id": "d501cd42-4cc0-4529-a40a-e70cc8be3b41",
   "metadata": {
    "scrolled": true
   },
   "outputs": [
    {
     "data": {
      "text/plain": [
       "array([9.23357997e-03, 2.33049244e-02, 1.07695892e-01, 3.67951840e-02,\n",
       "       2.54040658e-02, 1.62892528e-02, 1.38222009e-01, 6.95390180e-02,\n",
       "       1.36541249e-02, 1.62998326e-02, 2.27572665e-01, 1.99638419e-02,\n",
       "       9.38076619e-03, 9.79416445e-03, 1.71504170e-01, 2.53283456e-02,\n",
       "       7.55740283e-03, 1.59701798e-02, 1.03381779e-02, 1.04326764e-02,\n",
       "       6.01933105e-03, 1.72212515e-02, 2.54331098e-04, 2.47643694e-01,\n",
       "       3.77485454e-02, 6.49713054e-02, 7.07745031e-02, 3.79960798e-02,\n",
       "       4.29150742e-03, 4.13219891e-02, 6.66563958e-02, 2.71057002e-02,\n",
       "       1.11717982e-02, 1.12296212e-02, 1.43918870e-02, 3.98372440e-03,\n",
       "       4.13219891e-02, 1.04596484e-02, 6.18769036e-06, 2.74362974e-02,\n",
       "       1.25522032e-01, 4.13220078e-02, 9.72045958e-02, 1.39970012e-04,\n",
       "       3.01860110e-03, 2.05264590e-03, 3.26881483e-02, 4.13220078e-02,\n",
       "       1.45581027e-03, 1.31118271e-04, 1.16929160e-02, 1.16698733e-02,\n",
       "       2.38973275e-02, 1.67706446e-03, 4.13219891e-02, 1.09018413e-02,\n",
       "       1.98902344e-05, 1.14453034e-02, 1.13801435e-02, 2.42287703e-02,\n",
       "       1.67706446e-03, 4.13219891e-02, 1.06195807e-02, 8.09988796e-06,\n",
       "       7.24085467e-03, 7.24085467e-03, 4.13219519e-02, 6.72534388e-03,\n",
       "       1.22971637e-02, 8.48711748e-03, 9.15688556e-03, 9.27599054e-03,\n",
       "       9.17605311e-03, 4.13219780e-02, 8.67104437e-03, 9.09365714e-03,\n",
       "       8.67250562e-03, 9.10842419e-03, 4.13219556e-02, 7.81750400e-03,\n",
       "       8.98884330e-03, 3.99145670e-02, 3.85900065e-02, 2.19137296e-02,\n",
       "       1.52987182e-01, 1.50261506e-01, 1.06773176e-03, 4.72038202e-02,\n",
       "       7.92491585e-02, 4.89545651e-02, 3.12710553e-02, 1.33342788e-01,\n",
       "       1.35776088e-01, 2.99394224e-02, 4.21717167e-01, 3.19731057e-01,\n",
       "       4.51686502e-01, 1.51647493e-01, 2.96089709e-01, 2.16027200e-02,\n",
       "       4.08836491e-02, 2.99693165e-05, 7.16018304e-02, 1.51653523e-02,\n",
       "       1.93066206e-02, 3.95866521e-02, 5.40278815e-02, 1.57163963e-02,\n",
       "       4.96426877e-03, 3.33529594e-03, 7.15148076e-02, 1.08518146e-01],\n",
       "      dtype=float32)"
      ]
     },
     "execution_count": 74,
     "metadata": {},
     "output_type": "execute_result"
    }
   ],
   "source": [
    "np.abs(x_mean[dt['XD']['good']] - dt['XD']['mean'][dt['XD']['good']])/x_mean[dt['XD']['good']]"
   ]
  },
  {
   "cell_type": "code",
   "execution_count": null,
   "id": "f921db08-a23b-4989-8642-7982aa691923",
   "metadata": {},
   "outputs": [],
   "source": [
    "np.max(np.abs(x_mean[dt['XD']['good']] - dt['XD']['mean'][dt['XD']['good']])/x_mean[dt['XD']['good']])"
   ]
  },
  {
   "cell_type": "code",
   "execution_count": 69,
   "id": "3f80da49-39ed-4ab6-a744-985bb7990e1f",
   "metadata": {},
   "outputs": [
    {
     "data": {
      "text/plain": [
       "1991441.4"
      ]
     },
     "execution_count": 69,
     "metadata": {},
     "output_type": "execute_result"
    }
   ],
   "source": [
    "x_mean[0,28]"
   ]
  },
  {
   "cell_type": "code",
   "execution_count": 70,
   "id": "5df83f6f-3b5b-411b-a0a6-ebf07c48c336",
   "metadata": {},
   "outputs": [
    {
     "data": {
      "text/plain": [
       "1976391.2"
      ]
     },
     "execution_count": 70,
     "metadata": {},
     "output_type": "execute_result"
    }
   ],
   "source": [
    "dt['XD']['mean'][0,28]"
   ]
  },
  {
   "cell_type": "code",
   "execution_count": 72,
   "id": "5e93304b-f3d2-41b7-bf8e-514147ff3de4",
   "metadata": {},
   "outputs": [
    {
     "data": {
      "text/plain": [
       "-0.007557403"
      ]
     },
     "execution_count": 72,
     "metadata": {},
     "output_type": "execute_result"
    }
   ],
   "source": [
    "(dt['XD']['mean'][0,28]-x_mean[0,28])/x_mean[0,28]"
   ]
  },
  {
   "cell_type": "code",
   "execution_count": 66,
   "id": "0f9d1344-2592-4aa0-b06b-5ffb3d58746f",
   "metadata": {},
   "outputs": [
    {
     "ename": "IndexError",
     "evalue": "index 28 is out of bounds for axis 0 with size 1",
     "output_type": "error",
     "traceback": [
      "\u001b[0;31m---------------------------------------------------------------------------\u001b[0m",
      "\u001b[0;31mIndexError\u001b[0m                                Traceback (most recent call last)",
      "Cell \u001b[0;32mIn[66], line 1\u001b[0m\n\u001b[0;32m----> 1\u001b[0m \u001b[43mx_mean\u001b[49m\u001b[43m[\u001b[49m\u001b[38;5;241;43m28\u001b[39;49m\u001b[43m]\u001b[49m\n",
      "\u001b[0;31mIndexError\u001b[0m: index 28 is out of bounds for axis 0 with size 1"
     ]
    }
   ],
   "source": [
    "x_mean[1, 28]"
   ]
  },
  {
   "cell_type": "code",
   "execution_count": 61,
   "id": "947ff5f4-d5d7-4e80-a750-97d5d7d55f80",
   "metadata": {},
   "outputs": [
    {
     "data": {
      "text/plain": [
       "0.45168644"
      ]
     },
     "execution_count": 61,
     "metadata": {},
     "output_type": "execute_result"
    }
   ],
   "source": [
    "np.max(np.abs(x_mean[dt['XR']['good']] - dt['XR']['mean'][dt['XR']['good']])/x_mean[dt['XR']['good']])"
   ]
  },
  {
   "cell_type": "code",
   "execution_count": 58,
   "id": "f9835799-818e-4288-b9b3-867b5c8f77a9",
   "metadata": {},
   "outputs": [
    {
     "data": {
      "text/plain": [
       "array([[3.76272947e-04, 0.00000000e+00, 0.00000000e+00, 6.67644665e-04,\n",
       "        0.00000000e+00, 0.00000000e+00, 3.12893838e-03, 5.11875842e-05,\n",
       "        0.00000000e+00, 0.00000000e+00, 4.79616225e-03, 0.00000000e+00,\n",
       "        0.00000000e+00, 1.07934475e-02, 0.00000000e+00, 1.13292783e-02,\n",
       "        0.00000000e+00, 0.00000000e+00, 5.12673054e-04, 0.00000000e+00,\n",
       "        2.23437382e-06, 1.47730713e+01, 4.49155579e+01, 2.48245239e+00,\n",
       "        8.77670288e-01, 1.99310780e-02, 3.61901149e-03, 3.35262451e+01,\n",
       "        1.50501250e+04, 4.48092818e-03, 4.28199768e-04, 1.02365762e-03,\n",
       "        2.75187194e-04, 6.95548952e-04, 4.39584255e-06, 1.94288499e-04,\n",
       "        6.44232205e-06, 1.06135607e-02, 1.23182684e-02, 1.54166017e-04,\n",
       "        9.38336598e-07, 5.21335096e-07, 0.00000000e+00, 2.27762163e-02,\n",
       "        8.59914780e-01, 1.40340999e-04, 1.42642297e-04, 8.65402399e-06,\n",
       "        8.63859896e-07, 5.21335096e-07, 0.00000000e+00, 2.72946432e-04,\n",
       "        6.19888306e-06, 1.55077782e-04, 1.88968983e-03, 9.53298877e-06,\n",
       "        0.00000000e+00, 0.00000000e+00, 0.00000000e+00, 2.03523412e-03,\n",
       "        1.39057636e-04, 1.48825347e-05, 1.04731880e-05, 1.02181511e-05,\n",
       "        7.44764748e-08, 0.00000000e+00, 0.00000000e+00, 1.50632113e-05,\n",
       "        1.30295753e-04, 1.45443715e-04, 1.45220198e-04, 1.11043628e-05,\n",
       "        3.42508429e-07, 5.21335096e-07, 0.00000000e+00, 2.78696418e-04,\n",
       "        1.99079514e-05, 1.41860917e-04, 1.41227618e-04, 1.14767172e-05,\n",
       "        3.42508429e-07, 5.21335096e-07, 0.00000000e+00, 2.70748511e-04,\n",
       "        8.10623169e-06, 2.73641199e-05, 2.73641199e-05, 3.35143704e-06,\n",
       "        0.00000000e+00, 0.00000000e+00, 0.00000000e+00, 5.13773412e-05,\n",
       "        2.13339925e-04, 9.88729298e-05, 2.20311806e-04, 1.08852051e-04,\n",
       "        2.16275454e-04, 3.08332383e-05, 0.00000000e+00, 1.72264874e-04,\n",
       "        2.89652497e-04, 3.32405325e-05, 1.42337754e-04, 2.40186346e-05,\n",
       "        0.00000000e+00, 6.09694980e-05, 3.19700688e-04, 1.84341967e-02,\n",
       "        9.18126106e-03, 5.86608425e-04, 7.11897135e-01, 7.28457451e-01,\n",
       "        1.06054544e-03, 7.38743693e-04, 8.80463980e-04, 1.78503245e-03,\n",
       "        0.00000000e+00, 2.22678781e-02, 1.62637806e+00, 1.95633221e+00,\n",
       "        4.83405273e+02, 3.01110849e-04, 1.99773386e-02, 5.20784199e-01,\n",
       "        1.38921890e+01, 2.36837241e-06, 2.95668724e-06, 6.71418384e-04,\n",
       "        2.99215317e-05, 5.93249686e-04, 6.21225685e-04, 1.77907199e-03,\n",
       "        9.63146210e-01, 2.29390862e-05, 1.39508843e-02, 2.66975164e-03,\n",
       "        7.57351518e-04, 6.54850155e-04, 1.75915193e-05, 0.00000000e+00]],\n",
       "      dtype=float32)"
      ]
     },
     "execution_count": 58,
     "metadata": {},
     "output_type": "execute_result"
    }
   ],
   "source": [
    "np.abs(x_mean - dt['XD']['mean'])"
   ]
  },
  {
   "cell_type": "code",
   "execution_count": null,
   "id": "591c5a3e-92b6-4291-ad3a-d483c775007f",
   "metadata": {},
   "outputs": [],
   "source": []
  }
 ],
 "metadata": {
  "kernelspec": {
   "display_name": "Python 3.9 (gps)",
   "language": "python",
   "name": "gps"
  },
  "language_info": {
   "codemirror_mode": {
    "name": "ipython",
    "version": 3
   },
   "file_extension": ".py",
   "mimetype": "text/x-python",
   "name": "python",
   "nbconvert_exporter": "python",
   "pygments_lexer": "ipython3",
   "version": "3.9.13"
  }
 },
 "nbformat": 4,
 "nbformat_minor": 5
}
